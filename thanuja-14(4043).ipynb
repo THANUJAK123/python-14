{
 "cells": [
  {
   "cell_type": "markdown",
   "metadata": {},
   "source": [
    "### 1:creation of tuples"
   ]
  },
  {
   "cell_type": "code",
   "execution_count": 1,
   "metadata": {},
   "outputs": [
    {
     "name": "stdout",
     "output_type": "stream",
     "text": [
      "(1, 2, 3, 4)\n"
     ]
    }
   ],
   "source": [
    "t=(1,2,3,4)\n",
    "print(t)"
   ]
  },
  {
   "cell_type": "markdown",
   "metadata": {},
   "source": [
    "### 2:creation of tuple with different data types"
   ]
  },
  {
   "cell_type": "code",
   "execution_count": 2,
   "metadata": {},
   "outputs": [
    {
     "name": "stdout",
     "output_type": "stream",
     "text": [
      "(1, 4.5, 'thanuja')\n"
     ]
    }
   ],
   "source": [
    "t=(1,4.5,\"thanuja\")\n",
    "print(t)"
   ]
  },
  {
   "cell_type": "markdown",
   "metadata": {},
   "source": [
    "### 3:tuple to a string"
   ]
  },
  {
   "cell_type": "code",
   "execution_count": 9,
   "metadata": {},
   "outputs": [
    {
     "name": "stdout",
     "output_type": "stream",
     "text": [
      "mickymousechotabheem\n"
     ]
    }
   ],
   "source": [
    "def con(tup):\n",
    "    str=\"\".join(tup)\n",
    "    return str\n",
    "tup=(\"micky\",\"mouse\",\"chota\",\"bheem\")\n",
    "k=con(tup)\n",
    "print(k)"
   ]
  },
  {
   "cell_type": "markdown",
   "metadata": {},
   "source": [
    "### 4:slice a tuple"
   ]
  },
  {
   "cell_type": "code",
   "execution_count": 14,
   "metadata": {},
   "outputs": [
    {
     "name": "stdout",
     "output_type": "stream",
     "text": [
      "('chota', 'bheem', 'tom', 'jerry')\n",
      "('micky', 'mouse')\n",
      "('micky', 'mouse', 'chota')\n"
     ]
    }
   ],
   "source": [
    "tup=(\"micky\",\"mouse\",\"chota\",\"bheem\",\"tom\",\"jerry\")\n",
    "print(tup[2:])\n",
    "print(tup[:2])\n",
    "print(tup[:3])"
   ]
  },
  {
   "cell_type": "markdown",
   "metadata": {},
   "source": [
    "### 5:length of tuple"
   ]
  },
  {
   "cell_type": "code",
   "execution_count": 15,
   "metadata": {},
   "outputs": [
    {
     "name": "stdout",
     "output_type": "stream",
     "text": [
      "6\n"
     ]
    }
   ],
   "source": [
    "tup=(\"micky\",\"mouse\",\"chota\",\"bheem\",\"tom\",\"jerry\")\n",
    "print(len(tup))"
   ]
  },
  {
   "cell_type": "markdown",
   "metadata": {},
   "source": [
    "### 6:converting a tuple to a dictionary"
   ]
  },
  {
   "cell_type": "code",
   "execution_count": 19,
   "metadata": {},
   "outputs": [
    {
     "name": "stdout",
     "output_type": "stream",
     "text": [
      "micky 1\n",
      "mouse 2\n",
      "chota 3\n",
      "bheem 4\n",
      "tom 5\n",
      "jerry 6\n"
     ]
    }
   ],
   "source": [
    "tup=(\"micky\",\"mouse\",\"chota\",\"bheem\",\"tom\",\"jerry\")\n",
    "d={}\n",
    "n=(1,2,3,4,5,6)\n",
    "for i in range(len(n)):\n",
    "    d[tup[i]]=n[i]\n",
    "for fn in d:\n",
    "    print(fn,d[fn])\n",
    "    "
   ]
  },
  {
   "cell_type": "markdown",
   "metadata": {},
   "source": [
    "### 7:reversing a tuple"
   ]
  },
  {
   "cell_type": "code",
   "execution_count": 51,
   "metadata": {},
   "outputs": [
    {
     "name": "stdout",
     "output_type": "stream",
     "text": [
      "jerry\n",
      "tom\n",
      "bheem\n",
      "chota\n",
      "mouse\n",
      "mickey\n"
     ]
    }
   ],
   "source": [
    "tup=(\"mickey\",\"mouse\",\"chota\",\"bheem\",\"tom\",\"jerry\")\n",
    "for i in range(1,7):\n",
    "    k=tup[-i]\n",
    "    print(k)    \n",
    "    "
   ]
  },
  {
   "cell_type": "markdown",
   "metadata": {},
   "source": [
    "### 8:list of tuples to a dictionary"
   ]
  },
  {
   "cell_type": "code",
   "execution_count": 22,
   "metadata": {},
   "outputs": [
    {
     "name": "stdout",
     "output_type": "stream",
     "text": [
      "rama sita 4\n",
      "motu patlu 5\n",
      "chota bheem 6\n"
     ]
    }
   ],
   "source": [
    "tup=((\"rama\",\"sita\"),(\"motu\",\"patlu\"),(\"chota\",\"bheem\")) \n",
    "num=(4,5,6)                                   \n",
    "t={}                                        \n",
    "for i in range(len(num)):\n",
    "    t[tup[i]]=num[i]\n",
    "for fn,ln in t:\n",
    "    print(fn,ln,t[fn,ln])"
   ]
  },
  {
   "cell_type": "code",
   "execution_count": null,
   "metadata": {},
   "outputs": [],
   "source": [
    "### 9:list to a tuple"
   ]
  },
  {
   "cell_type": "code",
   "execution_count": 21,
   "metadata": {},
   "outputs": [
    {
     "name": "stdout",
     "output_type": "stream",
     "text": [
      "(1, 2, 3, 4)\n"
     ]
    }
   ],
   "source": [
    "l=[1,2,3,4]\n",
    "f=tuple(l)\n",
    "print(f)"
   ]
  },
  {
   "cell_type": "code",
   "execution_count": null,
   "metadata": {},
   "outputs": [],
   "source": []
  }
 ],
 "metadata": {
  "kernelspec": {
   "display_name": "Python 3",
   "language": "python",
   "name": "python3"
  },
  "language_info": {
   "codemirror_mode": {
    "name": "ipython",
    "version": 3
   },
   "file_extension": ".py",
   "mimetype": "text/x-python",
   "name": "python",
   "nbconvert_exporter": "python",
   "pygments_lexer": "ipython3",
   "version": "3.7.6"
  }
 },
 "nbformat": 4,
 "nbformat_minor": 4
}
